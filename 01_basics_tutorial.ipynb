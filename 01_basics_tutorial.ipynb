{
  "nbformat": 4,
  "nbformat_minor": 0,
  "metadata": {
    "kernelspec": {
      "display_name": "Python 3",
      "language": "python",
      "name": "python3"
    },
    "language_info": {
      "codemirror_mode": {
        "name": "ipython",
        "version": 3
      },
      "file_extension": ".py",
      "mimetype": "text/x-python",
      "name": "python",
      "nbconvert_exporter": "python",
      "pygments_lexer": "ipython3",
      "version": "3.6.12"
    },
    "colab": {
      "name": "01_basics_tutorial.ipynb",
      "provenance": [],
      "collapsed_sections": [
        "12WIlPLOifXt"
      ],
      "include_colab_link": true
    },
    "accelerator": "GPU"
  },
  "cells": [
    {
      "cell_type": "markdown",
      "metadata": {
        "id": "view-in-github",
        "colab_type": "text"
      },
      "source": [
        "<a href=\"https://colab.research.google.com/github/mabrandes/hello-world/blob/main/01_basics_tutorial.ipynb\" target=\"_parent\"><img src=\"https://colab.research.google.com/assets/colab-badge.svg\" alt=\"Open In Colab\"/></a>"
      ]
    },
    {
      "cell_type": "code",
      "metadata": {
        "id": "0DvmN4DPUOcM"
      },
      "source": [
        "%matplotlib inline"
      ],
      "execution_count": null,
      "outputs": []
    },
    {
      "cell_type": "markdown",
      "metadata": {
        "id": "RLdpLLE-UOcY"
      },
      "source": [
        "\n",
        "Introduction: Deep Learning Basics\n",
        "=====================\n",
        "\n",
        "This tutorial is based on the *PyTorch 60 Minute Deep Learning Blitz* which I encourage you to check out if you want to learn more about PyTorch. \n",
        "\n",
        "In this tutorial, we will cover some practical aspects of training neural networks. \n",
        "\n",
        "Specifically, we will focus on the following learnings. \n",
        "\n",
        "- Chosing good optimization parameters is often more important than architectural decisions (width of layers, number of layers).\n",
        "- Training on GPUs is very effective (if done right!).\n",
        "\n",
        "The structure of the tutorial is as follows:\n",
        "\n",
        "1. Going through the deep learning loop.\n",
        "  1. Load and normalizing the CIFAR10 training and test datasets using\n",
        "   ``torchvision``\n",
        "  2. Define a Convolutional Neural Network\n",
        "  3. Define a loss function\n",
        "  4. Train the network and test it\n",
        "\n",
        "2. Studying the sensitivity of the training procedure with respect to...\n",
        "  - Learning rate\n",
        "  - Adaptive optimizers\n",
        "  - Initialization\n",
        "  - GPU training and speed.\n",
        "\n",
        "\n",
        "\n"
      ]
    },
    {
      "cell_type": "markdown",
      "metadata": {
        "id": "12WIlPLOifXt"
      },
      "source": [
        "\n",
        "1.1 Loading data\n",
        "----------------------------\n",
        "\n",
        "Generally, when you have to deal with image, text, audio or video data,\n",
        "you can use standard python packages that load data into a numpy array.\n",
        "Then you can convert this array into a ``torch.*Tensor``.\n",
        "\n",
        "-  For images, packages such as Pillow, OpenCV are useful\n",
        "-  For audio, packages such as scipy and librosa\n",
        "-  For text, either raw Python or Cython based loading, or NLTK and\n",
        "   SpaCy are useful\n",
        "\n",
        "As a convenience, PyTorch also has data loaders for many common datasets in in vision, audio and text. (Check out the torchvision, torchaudio, torchtext packages.) This helps you avoid writing boilerplate code for the datasets and dataloaders and you can get started more quickly!\n",
        "\n",
        "In this tutorial, we will use the CIFAR10 dataset. This is a vision dataset, with 3-channel color images of 32x32 pixels in size and ten classes: ‘airplane’, ‘automobile’, ‘bird’, ‘cat’, ‘deer’,\n",
        "‘dog’, ‘frog’, ‘horse’, ‘ship’, ‘truck’. Our task will be to classify images correctly. "
      ]
    },
    {
      "cell_type": "markdown",
      "metadata": {
        "id": "tcFf5k5nUOcb"
      },
      "source": [
        "CIFAR-10 has (PIL) images with RGB color values in the range [0, 255]. We transform those using the `ToTensor` (creates PyTorch Tensor and scales values to [0, 1]) and standardize over all pixels and all images for each color channel using empirical mean and standard deviation from the trainset using the `Normalize` transform. \n"
      ]
    },
    {
      "cell_type": "code",
      "metadata": {
        "colab": {
          "base_uri": "https://localhost:8080/"
        },
        "id": "58gBcNmhqR01",
        "outputId": "8bd12508-0ace-406b-8b49-f69a4afd1694"
      },
      "source": [
        "import torch\n",
        "import torchvision\n",
        "import torchvision.transforms as transforms\n",
        "\n",
        "trainset = torchvision.datasets.CIFAR10(root='./data', train=True,\n",
        "                                        download=True, transform=transforms.ToTensor())\n"
      ],
      "execution_count": null,
      "outputs": [
        {
          "output_type": "stream",
          "text": [
            "Files already downloaded and verified\n"
          ],
          "name": "stdout"
        }
      ]
    },
    {
      "cell_type": "code",
      "metadata": {
        "id": "4Fufd8eUUOcc",
        "colab": {
          "base_uri": "https://localhost:8080/"
        },
        "outputId": "2b75f51c-1e99-4db6-928f-fc173e6f2edb"
      },
      "source": [
        "import torch\n",
        "import torchvision\n",
        "import torchvision.transforms as transforms\n",
        "\n",
        "batch_size = 100\n",
        "trainset_mean = torch.Tensor([0.4914, 0.4822, 0.4465])\n",
        "trainset_std = torch.Tensor([0.2470, 0.2435, 0.2616])\n",
        "\n",
        "transform = transforms.Compose(\n",
        "    [transforms.ToTensor(),\n",
        "     transforms.Normalize(trainset_mean, trainset_std)])\n",
        "\n",
        "trainset = torchvision.datasets.CIFAR10(root='./data', train=True,\n",
        "                                        download=True, transform=transform)\n",
        "\n",
        "testset = torchvision.datasets.CIFAR10(root='./data', train=False,\n",
        "                                       download=True, transform=transform)\n",
        "\n",
        "def get_loader(dataset, shuffle, batch_size):\n",
        "    return torch.utils.data.DataLoader(dataset, batch_size=batch_size, \n",
        "                                          shuffle=shuffle, num_workers=2,\n",
        "                                          pin_memory=True)\n",
        "\n",
        "testloader = get_loader(testset, False, 1000)\n",
        "\n",
        "classes = ('plane', 'car', 'bird', 'cat',\n",
        "           'deer', 'dog', 'frog', 'horse', 'ship', 'truck')"
      ],
      "execution_count": null,
      "outputs": [
        {
          "output_type": "stream",
          "text": [
            "Files already downloaded and verified\n",
            "Files already downloaded and verified\n"
          ],
          "name": "stdout"
        }
      ]
    },
    {
      "cell_type": "markdown",
      "metadata": {
        "id": "oCEVVDANUOcc"
      },
      "source": [
        "Let us show some of the training images, for fun.\n",
        "\n"
      ]
    },
    {
      "cell_type": "code",
      "metadata": {
        "id": "R8G97wIQUOcd",
        "colab": {
          "base_uri": "https://localhost:8080/",
          "height": 155
        },
        "outputId": "354f215f-1861-4bfe-8098-f219f1768e53"
      },
      "source": [
        "import matplotlib.pyplot as plt\n",
        "import numpy as np\n",
        "\n",
        "# functions to show an image\n",
        "def imshow(img, mean, std):\n",
        "    # img is C x W x H\n",
        "    img = img * std.unsqueeze(-1).unsqueeze(-1) + mean.unsqueeze(-1).unsqueeze(-1)\n",
        "    npimg = img.numpy()\n",
        "    plt.imshow(np.transpose(npimg, (1, 2, 0)))\n",
        "    # PIL image is W x H x C\n",
        "    plt.show()\n",
        "\n",
        "# get some random training images\n",
        "images, labels = zip(*[trainset[i] for i in range(4)])\n",
        "\n",
        "# show images\n",
        "imshow(torchvision.utils.make_grid(list(images)), trainset_mean, trainset_std)\n",
        "# print labels\n",
        "print(' '.join('%9s' % classes[labels[j]] for j in range(4)))"
      ],
      "execution_count": null,
      "outputs": [
        {
          "output_type": "display_data",
          "data": {
            "image/png": "[encoded data removed]",
            "text/plain": [
              "<Figure size 432x288 with 1 Axes>"
            ]
          },
          "metadata": {
            "tags": [],
            "needs_background": "light"
          }
        },
        {
          "output_type": "stream",
          "text": [
            "     frog     truck     truck      deer\n"
          ],
          "name": "stdout"
        }
      ]
    },
    {
      "cell_type": "markdown",
      "metadata": {
        "id": "_b-NnuwU4U_P"
      },
      "source": [
        "\n",
        "1.2 Defining the model - Convolutional Neural Network\n",
        "---\n",
        "\n",
        "In PyTorch, both networks and individual layers are implemented as subclasses of nn.Module. There are *many* layers available and you can easily compose new networks by combining them. \n",
        "\n",
        "For the purpose of this tutorial, we will compose a neural network using convolutional and fully connected layers. We also use max-pooling and RELU non-linearities. "
      ]
    },
    {
      "cell_type": "code",
      "metadata": {
        "id": "jB2Oet55UOce"
      },
      "source": [
        "import torch.nn as nn\n",
        "import torch.nn.functional as F\n",
        "\n",
        "def get_model(device):\n",
        "\n",
        "  return SimpleNetwork().to(device)\n",
        "\n",
        "# model = get_model('cpu')\n",
        "# model.feature_extractor[0].weight\n",
        "class SimpleNetwork(nn.Module):\n",
        "\n",
        "    def __init__(self):\n",
        "        super().__init__()\n",
        "        self.feature_extractor = nn.Sequential(\n",
        "          nn.Conv2d(in_channels=3, out_channels=64, kernel_size=5, padding=(2,2)),\n",
        "          nn.ReLU(),\n",
        "          nn.MaxPool2d(2, 2),\n",
        "          nn.Conv2d(in_channels=64, out_channels=128, kernel_size=5, padding=(2,2)),\n",
        "          nn.ReLU(),\n",
        "          nn.MaxPool2d(2, 2),\n",
        "          nn.Conv2d(in_channels=128, out_channels=128, kernel_size=3, padding=(1,1)),\n",
        "          nn.ReLU(),\n",
        "          nn.MaxPool2d(2, 2),\n",
        "          nn.Conv2d(in_channels=128, out_channels=64, kernel_size=3, padding=(1,1)),\n",
        "          nn.ReLU(),\n",
        "          nn.MaxPool2d(2, 2)\n",
        "        )\n",
        "\n",
        "        self.classifier = nn.Sequential(\n",
        "          nn.Linear(256, 256),\n",
        "          nn.ReLU(),\n",
        "          nn.Linear(256, 64),\n",
        "          nn.ReLU(),\n",
        "          nn.Linear(64, 10)\n",
        "        )\n",
        "            \n",
        "\n",
        "    def forward(self, x):\n",
        "        bs = x.size(0)\n",
        "        features = self.feature_extractor(x)\n",
        "        features = features.view(bs, -1) # flatten\n",
        "        logits = self.classifier(features)\n",
        "        return logits"
      ],
      "execution_count": null,
      "outputs": []
    },
    {
      "cell_type": "code",
      "metadata": {
        "id": "V0DddzMZXSFU"
      },
      "source": [
        "model = get_model('cpu')"
      ],
      "execution_count": null,
      "outputs": []
    },
    {
      "cell_type": "markdown",
      "metadata": {
        "id": "h9MTetVW7Fkn"
      },
      "source": [
        "1.3 Defining Loss Function and Optimizer\n",
        "---\n",
        "We want to solve a classification problem and we use CrossEntropyLoss as our loss function. \n",
        "For now, we will just train with plain stochastic gradient descent. "
      ]
    },
    {
      "cell_type": "code",
      "metadata": {
        "id": "6LCZnxR3UOcf"
      },
      "source": [
        "import torch.optim as optim\n",
        "\n",
        "criterion = nn.CrossEntropyLoss()\n",
        "optimizer = optim.SGD(model.parameters(), lr=0.001)\n",
        "\n",
        "device = 'cpu'\n",
        "model = model.to(device)"
      ],
      "execution_count": null,
      "outputs": []
    },
    {
      "cell_type": "markdown",
      "metadata": {
        "id": "QEN61m2g7xWY"
      },
      "source": [
        "1.4 Train-Test-Loop\n",
        "---\n",
        "Let us set-up our train-test loops. \n",
        "This is when things start to get interesting. We simply have to loop over our data iterator, and feed the inputs to the network and optimize."
      ]
    },
    {
      "cell_type": "code",
      "metadata": {
        "id": "V8eUABAgUOcg"
      },
      "source": [
        "import time\n",
        "\n",
        "def experiment(num_epochs, trainloader, device, model, optimizer):\n",
        "    train_results = {}\n",
        "    test_results = {}\n",
        "    # Initial test error\n",
        "    loss, acc, time = test(device, model)\n",
        "    print(f'Upon initialization. [Test] \\t Time {time.avg:.2f} \\\n",
        "            Loss {loss.avg:.2f} \\t Accuracy {acc.avg:.2f}')\n",
        "    test_results[0] = (loss, acc, time)\n",
        "    \n",
        "\n",
        "    for epoch in range(1, num_epochs+1):\n",
        "        loss, acc, time = train(trainloader, device, model, optimizer)\n",
        "        print(f'Epoch {epoch}. [Train] \\t Time {time.sum:.2f} Loss \\\n",
        "                {loss.avg:.2f} \\t Accuracy {acc.avg:.2f}')\n",
        "        train_results[epoch] = (loss.avg, acc.avg, time.avg)\n",
        "\n",
        "        if not (epoch % 2):\n",
        "          loss, acc, time = test(device, model)\n",
        "          print(f'Epoch {epoch}. [Test] \\t Time {time.sum:.2f} Loss \\\n",
        "                {loss.avg:.2f} \\t Accuracy {acc.avg:.2f}')\n",
        "          test_results[epoch] = (loss.avg, acc.avg, time.avg)\n",
        "\n",
        "    return train_results, test_results\n",
        "\n",
        "def train(trainloader, device, model, optimizer):\n",
        "    time_ = AverageMeter()\n",
        "    loss_ = AverageMeter()\n",
        "    acc_ = AverageMeter()\n",
        "    model.train()\n",
        "\n",
        "    for i, data, in enumerate(trainloader, 1):\n",
        "        # Accounting\n",
        "        end = time.time()\n",
        "\n",
        "        # get the inputs; data is a list of [inputs, labels]\n",
        "        images, labels = data # bs x 3 x 32 x 32\n",
        "        images = images.to(device)\n",
        "        labels = labels.to(device)\n",
        "        bs = images.size(0)\n",
        "        # zero the parameter gradients\n",
        "        optimizer.zero_grad()  # all the tensors have .grad attribute\n",
        "        # forward propagation\n",
        "        logits = model(images) # forward propagation \n",
        "        loss = criterion(logits, labels) # computing the loss for predictions\n",
        "        # Backward propagation\n",
        "        loss.backward() # backpropgation\n",
        "        # Optimization step. \n",
        "        optimizer.step() # applying an optimization step\n",
        "\n",
        "        # Accounting\n",
        "        acc = (torch.argmax(logits, dim=-1) == labels).sum() / bs\n",
        "        loss_.update(loss.mean().item(), bs)\n",
        "        acc_.update(acc.item(), bs)\n",
        "        time_.update(time.time() - end)\n",
        "      \n",
        "    return loss_, acc_, time_\n",
        "\n",
        "def test(device, model):\n",
        "    time_ = AverageMeter()\n",
        "    loss_ = AverageMeter()\n",
        "    acc_ = AverageMeter()\n",
        "    model.eval()\n",
        "\n",
        "    for i, data, in enumerate(testloader, 1):\n",
        "        # Accounting\n",
        "        end = time.time()\n",
        "        \n",
        "        images, labels = data\n",
        "        images = images.to(device)\n",
        "        labels = labels.to(device)\n",
        "\n",
        "        bs = images.size(0)\n",
        "\n",
        "        with torch.no_grad():\n",
        "            logits = model(images)\n",
        "            loss = criterion(logits, labels)\n",
        "            acc = (torch.argmax(logits, dim=-1) == labels).sum() / bs\n",
        "    \n",
        "            # Accounting\n",
        "            loss_.update(loss.mean().item(), bs)\n",
        "            acc_.update(acc.mean().item(), bs)\n",
        "            time_.update(time.time() - end)\n",
        "\n",
        "    return loss_, acc_, time_\n",
        "\n",
        "class AverageMeter():\n",
        "    \"\"\"Computes and stores the average and current value\"\"\"\n",
        "    def __init__(self):\n",
        "        self.reset()\n",
        "\n",
        "    def reset(self):\n",
        "        self.val = 0\n",
        "        self.avg = 0\n",
        "        self.sum = 0\n",
        "        self.count = 0\n",
        "\n",
        "    def update(self, val, n=1):\n",
        "        self.val = val\n",
        "        self.sum += val * n\n",
        "        self.count += n\n",
        "        self.avg = self.sum / self.count"
      ],
      "execution_count": null,
      "outputs": []
    },
    {
      "cell_type": "markdown",
      "metadata": {
        "id": "XFj2mChCbnAZ"
      },
      "source": [
        "2 Running different experiments\n",
        "=========\n"
      ]
    },
    {
      "cell_type": "markdown",
      "metadata": {
        "id": "dTVsjoA5bzSX"
      },
      "source": [
        "Baseline experiment (Experiment 0)\n",
        "-----\n"
      ]
    },
    {
      "cell_type": "code",
      "metadata": {
        "colab": {
          "base_uri": "https://localhost:8080/",
          "height": 358
        },
        "id": "qkRiFkZ5SBYS",
        "outputId": "1d937db2-6676-4e00-d1b8-fdaa69f486b9"
      },
      "source": [
        "torch.manual_seed(10)\n",
        "num_epochs = 10\n",
        "batch_size = 100\n",
        "trainloader = get_loader(trainset, True, batch_size=batch_size)\n",
        "device = 'cpu'\n",
        "model = get_model(device)\n",
        "optimizer = optim.SGD(model.parameters(), lr=0.1)\n",
        "\n",
        "train_res_0, test_res_0 = experiment(num_epochs=num_epochs, \n",
        "                                 trainloader=trainloader, \n",
        "                                 device=device, \n",
        "                                 model=model, \n",
        "                                 optimizer=optimizer)"
      ],
      "execution_count": null,
      "outputs": [
        {
          "output_type": "stream",
          "text": [
            "Upon initialization. [Test] \t Time 2.54             Loss 2.31 \t Accuracy 0.10\n"
          ],
          "name": "stdout"
        },
        {
          "output_type": "error",
          "ename": "KeyboardInterrupt",
          "evalue": "ignored",
          "traceback": [
            "\u001b[0;31m---------------------------------------------------------------------------\u001b[0m",
            "\u001b[0;31mKeyboardInterrupt\u001b[0m                         Traceback (most recent call last)",
            "\u001b[0;32m<ipython-input-23-c6851670438a>\u001b[0m in \u001b[0;36m<module>\u001b[0;34m()\u001b[0m\n\u001b[1;32m     11\u001b[0m                                  \u001b[0mdevice\u001b[0m\u001b[0;34m=\u001b[0m\u001b[0mdevice\u001b[0m\u001b[0;34m,\u001b[0m\u001b[0;34m\u001b[0m\u001b[0;34m\u001b[0m\u001b[0m\n\u001b[1;32m     12\u001b[0m                                  \u001b[0mmodel\u001b[0m\u001b[0;34m=\u001b[0m\u001b[0mmodel\u001b[0m\u001b[0;34m,\u001b[0m\u001b[0;34m\u001b[0m\u001b[0;34m\u001b[0m\u001b[0m\n\u001b[0;32m---> 13\u001b[0;31m                                  optimizer=optimizer)\n\u001b[0m",
            "\u001b[0;32m<ipython-input-22-9a7efb003c6c>\u001b[0m in \u001b[0;36mexperiment\u001b[0;34m(num_epochs, trainloader, device, model, optimizer)\u001b[0m\n\u001b[1;32m     11\u001b[0m \u001b[0;34m\u001b[0m\u001b[0m\n\u001b[1;32m     12\u001b[0m     \u001b[0;32mfor\u001b[0m \u001b[0mepoch\u001b[0m \u001b[0;32min\u001b[0m \u001b[0mrange\u001b[0m\u001b[0;34m(\u001b[0m\u001b[0;36m1\u001b[0m\u001b[0;34m,\u001b[0m \u001b[0mnum_epochs\u001b[0m\u001b[0;34m+\u001b[0m\u001b[0;36m1\u001b[0m\u001b[0;34m)\u001b[0m\u001b[0;34m:\u001b[0m\u001b[0;34m\u001b[0m\u001b[0;34m\u001b[0m\u001b[0m\n\u001b[0;32m---> 13\u001b[0;31m         \u001b[0mloss\u001b[0m\u001b[0;34m,\u001b[0m \u001b[0macc\u001b[0m\u001b[0;34m,\u001b[0m \u001b[0mtime\u001b[0m \u001b[0;34m=\u001b[0m \u001b[0mtrain\u001b[0m\u001b[0;34m(\u001b[0m\u001b[0mtrainloader\u001b[0m\u001b[0;34m,\u001b[0m \u001b[0mdevice\u001b[0m\u001b[0;34m,\u001b[0m \u001b[0mmodel\u001b[0m\u001b[0;34m,\u001b[0m \u001b[0moptimizer\u001b[0m\u001b[0;34m)\u001b[0m\u001b[0;34m\u001b[0m\u001b[0;34m\u001b[0m\u001b[0m\n\u001b[0m\u001b[1;32m     14\u001b[0m         \u001b[0mprint\u001b[0m\u001b[0;34m(\u001b[0m\u001b[0;34mf'Epoch {epoch}. [Train] \\t Time {time.sum:.2f} Loss                 {loss.avg:.2f} \\t Accuracy {acc.avg:.2f}'\u001b[0m\u001b[0;34m)\u001b[0m\u001b[0;34m\u001b[0m\u001b[0;34m\u001b[0m\u001b[0m\n\u001b[1;32m     15\u001b[0m         \u001b[0mtrain_results\u001b[0m\u001b[0;34m[\u001b[0m\u001b[0mepoch\u001b[0m\u001b[0;34m]\u001b[0m \u001b[0;34m=\u001b[0m \u001b[0;34m(\u001b[0m\u001b[0mloss\u001b[0m\u001b[0;34m.\u001b[0m\u001b[0mavg\u001b[0m\u001b[0;34m,\u001b[0m \u001b[0macc\u001b[0m\u001b[0;34m.\u001b[0m\u001b[0mavg\u001b[0m\u001b[0;34m,\u001b[0m \u001b[0mtime\u001b[0m\u001b[0;34m.\u001b[0m\u001b[0mavg\u001b[0m\u001b[0;34m)\u001b[0m\u001b[0;34m\u001b[0m\u001b[0;34m\u001b[0m\u001b[0m\n",
            "\u001b[0;32m<ipython-input-22-9a7efb003c6c>\u001b[0m in \u001b[0;36mtrain\u001b[0;34m(trainloader, device, model, optimizer)\u001b[0m\n\u001b[1;32m     40\u001b[0m         \u001b[0moptimizer\u001b[0m\u001b[0;34m.\u001b[0m\u001b[0mzero_grad\u001b[0m\u001b[0;34m(\u001b[0m\u001b[0;34m)\u001b[0m  \u001b[0;31m# all the tensors have .grad attribute\u001b[0m\u001b[0;34m\u001b[0m\u001b[0;34m\u001b[0m\u001b[0m\n\u001b[1;32m     41\u001b[0m         \u001b[0;31m# forward propagation\u001b[0m\u001b[0;34m\u001b[0m\u001b[0;34m\u001b[0m\u001b[0;34m\u001b[0m\u001b[0m\n\u001b[0;32m---> 42\u001b[0;31m         \u001b[0mlogits\u001b[0m \u001b[0;34m=\u001b[0m \u001b[0mmodel\u001b[0m\u001b[0;34m(\u001b[0m\u001b[0mimages\u001b[0m\u001b[0;34m)\u001b[0m \u001b[0;31m# forward propagation\u001b[0m\u001b[0;34m\u001b[0m\u001b[0;34m\u001b[0m\u001b[0m\n\u001b[0m\u001b[1;32m     43\u001b[0m         \u001b[0mloss\u001b[0m \u001b[0;34m=\u001b[0m \u001b[0mcriterion\u001b[0m\u001b[0;34m(\u001b[0m\u001b[0mlogits\u001b[0m\u001b[0;34m,\u001b[0m \u001b[0mlabels\u001b[0m\u001b[0;34m)\u001b[0m \u001b[0;31m# computing the loss for predictions\u001b[0m\u001b[0;34m\u001b[0m\u001b[0;34m\u001b[0m\u001b[0m\n\u001b[1;32m     44\u001b[0m         \u001b[0;31m# Backward propagation\u001b[0m\u001b[0;34m\u001b[0m\u001b[0;34m\u001b[0m\u001b[0;34m\u001b[0m\u001b[0m\n",
            "\u001b[0;32m/usr/local/lib/python3.7/dist-packages/torch/nn/modules/module.py\u001b[0m in \u001b[0;36m_call_impl\u001b[0;34m(self, *input, **kwargs)\u001b[0m\n\u001b[1;32m    887\u001b[0m             \u001b[0mresult\u001b[0m \u001b[0;34m=\u001b[0m \u001b[0mself\u001b[0m\u001b[0;34m.\u001b[0m\u001b[0m_slow_forward\u001b[0m\u001b[0;34m(\u001b[0m\u001b[0;34m*\u001b[0m\u001b[0minput\u001b[0m\u001b[0;34m,\u001b[0m \u001b[0;34m**\u001b[0m\u001b[0mkwargs\u001b[0m\u001b[0;34m)\u001b[0m\u001b[0;34m\u001b[0m\u001b[0;34m\u001b[0m\u001b[0m\n\u001b[1;32m    888\u001b[0m         \u001b[0;32melse\u001b[0m\u001b[0;34m:\u001b[0m\u001b[0;34m\u001b[0m\u001b[0;34m\u001b[0m\u001b[0m\n\u001b[0;32m--> 889\u001b[0;31m             \u001b[0mresult\u001b[0m \u001b[0;34m=\u001b[0m \u001b[0mself\u001b[0m\u001b[0;34m.\u001b[0m\u001b[0mforward\u001b[0m\u001b[0;34m(\u001b[0m\u001b[0;34m*\u001b[0m\u001b[0minput\u001b[0m\u001b[0;34m,\u001b[0m \u001b[0;34m**\u001b[0m\u001b[0mkwargs\u001b[0m\u001b[0;34m)\u001b[0m\u001b[0;34m\u001b[0m\u001b[0;34m\u001b[0m\u001b[0m\n\u001b[0m\u001b[1;32m    890\u001b[0m         for hook in itertools.chain(\n\u001b[1;32m    891\u001b[0m                 \u001b[0m_global_forward_hooks\u001b[0m\u001b[0;34m.\u001b[0m\u001b[0mvalues\u001b[0m\u001b[0;34m(\u001b[0m\u001b[0;34m)\u001b[0m\u001b[0;34m,\u001b[0m\u001b[0;34m\u001b[0m\u001b[0;34m\u001b[0m\u001b[0m\n",
            "\u001b[0;32m<ipython-input-19-5bdc1f0d3c8c>\u001b[0m in \u001b[0;36mforward\u001b[0;34m(self, x)\u001b[0m\n\u001b[1;32m     38\u001b[0m     \u001b[0;32mdef\u001b[0m \u001b[0mforward\u001b[0m\u001b[0;34m(\u001b[0m\u001b[0mself\u001b[0m\u001b[0;34m,\u001b[0m \u001b[0mx\u001b[0m\u001b[0;34m)\u001b[0m\u001b[0;34m:\u001b[0m\u001b[0;34m\u001b[0m\u001b[0;34m\u001b[0m\u001b[0m\n\u001b[1;32m     39\u001b[0m         \u001b[0mbs\u001b[0m \u001b[0;34m=\u001b[0m \u001b[0mx\u001b[0m\u001b[0;34m.\u001b[0m\u001b[0msize\u001b[0m\u001b[0;34m(\u001b[0m\u001b[0;36m0\u001b[0m\u001b[0;34m)\u001b[0m\u001b[0;34m\u001b[0m\u001b[0;34m\u001b[0m\u001b[0m\n\u001b[0;32m---> 40\u001b[0;31m         \u001b[0mfeatures\u001b[0m \u001b[0;34m=\u001b[0m \u001b[0mself\u001b[0m\u001b[0;34m.\u001b[0m\u001b[0mfeature_extractor\u001b[0m\u001b[0;34m(\u001b[0m\u001b[0mx\u001b[0m\u001b[0;34m)\u001b[0m\u001b[0;34m\u001b[0m\u001b[0;34m\u001b[0m\u001b[0m\n\u001b[0m\u001b[1;32m     41\u001b[0m         \u001b[0mfeatures\u001b[0m \u001b[0;34m=\u001b[0m \u001b[0mfeatures\u001b[0m\u001b[0;34m.\u001b[0m\u001b[0mview\u001b[0m\u001b[0;34m(\u001b[0m\u001b[0mbs\u001b[0m\u001b[0;34m,\u001b[0m \u001b[0;34m-\u001b[0m\u001b[0;36m1\u001b[0m\u001b[0;34m)\u001b[0m \u001b[0;31m# flatten\u001b[0m\u001b[0;34m\u001b[0m\u001b[0;34m\u001b[0m\u001b[0m\n\u001b[1;32m     42\u001b[0m         \u001b[0mlogits\u001b[0m \u001b[0;34m=\u001b[0m \u001b[0mself\u001b[0m\u001b[0;34m.\u001b[0m\u001b[0mclassifier\u001b[0m\u001b[0;34m(\u001b[0m\u001b[0mfeatures\u001b[0m\u001b[0;34m)\u001b[0m\u001b[0;34m\u001b[0m\u001b[0;34m\u001b[0m\u001b[0m\n",
            "\u001b[0;32m/usr/local/lib/python3.7/dist-packages/torch/nn/modules/module.py\u001b[0m in \u001b[0;36m_call_impl\u001b[0;34m(self, *input, **kwargs)\u001b[0m\n\u001b[1;32m    887\u001b[0m             \u001b[0mresult\u001b[0m \u001b[0;34m=\u001b[0m \u001b[0mself\u001b[0m\u001b[0;34m.\u001b[0m\u001b[0m_slow_forward\u001b[0m\u001b[0;34m(\u001b[0m\u001b[0;34m*\u001b[0m\u001b[0minput\u001b[0m\u001b[0;34m,\u001b[0m \u001b[0;34m**\u001b[0m\u001b[0mkwargs\u001b[0m\u001b[0;34m)\u001b[0m\u001b[0;34m\u001b[0m\u001b[0;34m\u001b[0m\u001b[0m\n\u001b[1;32m    888\u001b[0m         \u001b[0;32melse\u001b[0m\u001b[0;34m:\u001b[0m\u001b[0;34m\u001b[0m\u001b[0;34m\u001b[0m\u001b[0m\n\u001b[0;32m--> 889\u001b[0;31m             \u001b[0mresult\u001b[0m \u001b[0;34m=\u001b[0m \u001b[0mself\u001b[0m\u001b[0;34m.\u001b[0m\u001b[0mforward\u001b[0m\u001b[0;34m(\u001b[0m\u001b[0;34m*\u001b[0m\u001b[0minput\u001b[0m\u001b[0;34m,\u001b[0m \u001b[0;34m**\u001b[0m\u001b[0mkwargs\u001b[0m\u001b[0;34m)\u001b[0m\u001b[0;34m\u001b[0m\u001b[0;34m\u001b[0m\u001b[0m\n\u001b[0m\u001b[1;32m    890\u001b[0m         for hook in itertools.chain(\n\u001b[1;32m    891\u001b[0m                 \u001b[0m_global_forward_hooks\u001b[0m\u001b[0;34m.\u001b[0m\u001b[0mvalues\u001b[0m\u001b[0;34m(\u001b[0m\u001b[0;34m)\u001b[0m\u001b[0;34m,\u001b[0m\u001b[0;34m\u001b[0m\u001b[0;34m\u001b[0m\u001b[0m\n",
            "\u001b[0;32m/usr/local/lib/python3.7/dist-packages/torch/nn/modules/container.py\u001b[0m in \u001b[0;36mforward\u001b[0;34m(self, input)\u001b[0m\n\u001b[1;32m    117\u001b[0m     \u001b[0;32mdef\u001b[0m \u001b[0mforward\u001b[0m\u001b[0;34m(\u001b[0m\u001b[0mself\u001b[0m\u001b[0;34m,\u001b[0m \u001b[0minput\u001b[0m\u001b[0;34m)\u001b[0m\u001b[0;34m:\u001b[0m\u001b[0;34m\u001b[0m\u001b[0;34m\u001b[0m\u001b[0m\n\u001b[1;32m    118\u001b[0m         \u001b[0;32mfor\u001b[0m \u001b[0mmodule\u001b[0m \u001b[0;32min\u001b[0m \u001b[0mself\u001b[0m\u001b[0;34m:\u001b[0m\u001b[0;34m\u001b[0m\u001b[0;34m\u001b[0m\u001b[0m\n\u001b[0;32m--> 119\u001b[0;31m             \u001b[0minput\u001b[0m \u001b[0;34m=\u001b[0m \u001b[0mmodule\u001b[0m\u001b[0;34m(\u001b[0m\u001b[0minput\u001b[0m\u001b[0;34m)\u001b[0m\u001b[0;34m\u001b[0m\u001b[0;34m\u001b[0m\u001b[0m\n\u001b[0m\u001b[1;32m    120\u001b[0m         \u001b[0;32mreturn\u001b[0m \u001b[0minput\u001b[0m\u001b[0;34m\u001b[0m\u001b[0;34m\u001b[0m\u001b[0m\n\u001b[1;32m    121\u001b[0m \u001b[0;34m\u001b[0m\u001b[0m\n",
            "\u001b[0;32m/usr/local/lib/python3.7/dist-packages/torch/nn/modules/module.py\u001b[0m in \u001b[0;36m_call_impl\u001b[0;34m(self, *input, **kwargs)\u001b[0m\n\u001b[1;32m    887\u001b[0m             \u001b[0mresult\u001b[0m \u001b[0;34m=\u001b[0m \u001b[0mself\u001b[0m\u001b[0;34m.\u001b[0m\u001b[0m_slow_forward\u001b[0m\u001b[0;34m(\u001b[0m\u001b[0;34m*\u001b[0m\u001b[0minput\u001b[0m\u001b[0;34m,\u001b[0m \u001b[0;34m**\u001b[0m\u001b[0mkwargs\u001b[0m\u001b[0;34m)\u001b[0m\u001b[0;34m\u001b[0m\u001b[0;34m\u001b[0m\u001b[0m\n\u001b[1;32m    888\u001b[0m         \u001b[0;32melse\u001b[0m\u001b[0;34m:\u001b[0m\u001b[0;34m\u001b[0m\u001b[0;34m\u001b[0m\u001b[0m\n\u001b[0;32m--> 889\u001b[0;31m             \u001b[0mresult\u001b[0m \u001b[0;34m=\u001b[0m \u001b[0mself\u001b[0m\u001b[0;34m.\u001b[0m\u001b[0mforward\u001b[0m\u001b[0;34m(\u001b[0m\u001b[0;34m*\u001b[0m\u001b[0minput\u001b[0m\u001b[0;34m,\u001b[0m \u001b[0;34m**\u001b[0m\u001b[0mkwargs\u001b[0m\u001b[0;34m)\u001b[0m\u001b[0;34m\u001b[0m\u001b[0;34m\u001b[0m\u001b[0m\n\u001b[0m\u001b[1;32m    890\u001b[0m         for hook in itertools.chain(\n\u001b[1;32m    891\u001b[0m                 \u001b[0m_global_forward_hooks\u001b[0m\u001b[0;34m.\u001b[0m\u001b[0mvalues\u001b[0m\u001b[0;34m(\u001b[0m\u001b[0;34m)\u001b[0m\u001b[0;34m,\u001b[0m\u001b[0;34m\u001b[0m\u001b[0;34m\u001b[0m\u001b[0m\n",
            "\u001b[0;32m/usr/local/lib/python3.7/dist-packages/torch/nn/modules/conv.py\u001b[0m in \u001b[0;36mforward\u001b[0;34m(self, input)\u001b[0m\n\u001b[1;32m    397\u001b[0m \u001b[0;34m\u001b[0m\u001b[0m\n\u001b[1;32m    398\u001b[0m     \u001b[0;32mdef\u001b[0m \u001b[0mforward\u001b[0m\u001b[0;34m(\u001b[0m\u001b[0mself\u001b[0m\u001b[0;34m,\u001b[0m \u001b[0minput\u001b[0m\u001b[0;34m:\u001b[0m \u001b[0mTensor\u001b[0m\u001b[0;34m)\u001b[0m \u001b[0;34m->\u001b[0m \u001b[0mTensor\u001b[0m\u001b[0;34m:\u001b[0m\u001b[0;34m\u001b[0m\u001b[0;34m\u001b[0m\u001b[0m\n\u001b[0;32m--> 399\u001b[0;31m         \u001b[0;32mreturn\u001b[0m \u001b[0mself\u001b[0m\u001b[0;34m.\u001b[0m\u001b[0m_conv_forward\u001b[0m\u001b[0;34m(\u001b[0m\u001b[0minput\u001b[0m\u001b[0;34m,\u001b[0m \u001b[0mself\u001b[0m\u001b[0;34m.\u001b[0m\u001b[0mweight\u001b[0m\u001b[0;34m,\u001b[0m \u001b[0mself\u001b[0m\u001b[0;34m.\u001b[0m\u001b[0mbias\u001b[0m\u001b[0;34m)\u001b[0m\u001b[0;34m\u001b[0m\u001b[0;34m\u001b[0m\u001b[0m\n\u001b[0m\u001b[1;32m    400\u001b[0m \u001b[0;34m\u001b[0m\u001b[0m\n\u001b[1;32m    401\u001b[0m \u001b[0;32mclass\u001b[0m \u001b[0mConv3d\u001b[0m\u001b[0;34m(\u001b[0m\u001b[0m_ConvNd\u001b[0m\u001b[0;34m)\u001b[0m\u001b[0;34m:\u001b[0m\u001b[0;34m\u001b[0m\u001b[0;34m\u001b[0m\u001b[0m\n",
            "\u001b[0;32m/usr/local/lib/python3.7/dist-packages/torch/nn/modules/conv.py\u001b[0m in \u001b[0;36m_conv_forward\u001b[0;34m(self, input, weight, bias)\u001b[0m\n\u001b[1;32m    394\u001b[0m                             _pair(0), self.dilation, self.groups)\n\u001b[1;32m    395\u001b[0m         return F.conv2d(input, weight, bias, self.stride,\n\u001b[0;32m--> 396\u001b[0;31m                         self.padding, self.dilation, self.groups)\n\u001b[0m\u001b[1;32m    397\u001b[0m \u001b[0;34m\u001b[0m\u001b[0m\n\u001b[1;32m    398\u001b[0m     \u001b[0;32mdef\u001b[0m \u001b[0mforward\u001b[0m\u001b[0;34m(\u001b[0m\u001b[0mself\u001b[0m\u001b[0;34m,\u001b[0m \u001b[0minput\u001b[0m\u001b[0;34m:\u001b[0m \u001b[0mTensor\u001b[0m\u001b[0;34m)\u001b[0m \u001b[0;34m->\u001b[0m \u001b[0mTensor\u001b[0m\u001b[0;34m:\u001b[0m\u001b[0;34m\u001b[0m\u001b[0;34m\u001b[0m\u001b[0m\n",
            "\u001b[0;31mKeyboardInterrupt\u001b[0m: "
          ]
        }
      ]
    },
    {
      "cell_type": "markdown",
      "metadata": {
        "id": "sL-6FwC8da0m"
      },
      "source": [
        "Exploring the Effectiveness of GPUs (Experiment 1)\n",
        "-----"
      ]
    },
    {
      "cell_type": "code",
      "metadata": {
        "colab": {
          "base_uri": "https://localhost:8080/"
        },
        "id": "HdVpd4nJdZ1I",
        "outputId": "8e383c89-36be-4c6b-a548-e6cca7211e92"
      },
      "source": [
        "torch.manual_seed(10)\n",
        "device = torch.device(\"cuda:0\")\n",
        "model_1 = get_model(device)\n",
        "optimizer = optim.SGD(model_1.parameters(), lr=0.1)\n",
        "\n",
        "train_res_1, test_res_1 = experiment(num_epochs=num_epochs, \n",
        "                                 trainloader=trainloader, \n",
        "                                 device=device, \n",
        "                                 model=model_1, \n",
        "                                 optimizer=optimizer)\n",
        "\n"
      ],
      "execution_count": null,
      "outputs": [
        {
          "output_type": "stream",
          "text": [
            "Upon initialization. [Test] \t Time 0.05             Loss 2.31 \t Accuracy 0.10\n",
            "Epoch 1. [Train] \t Time 5.56 Loss                 2.03 \t Accuracy 0.24\n",
            "Epoch 2. [Train] \t Time 5.53 Loss                 1.57 \t Accuracy 0.42\n",
            "Epoch 2. [Test] \t Time 0.38 Loss                 1.43 \t Accuracy 0.49\n",
            "Epoch 3. [Train] \t Time 5.53 Loss                 1.30 \t Accuracy 0.53\n",
            "Epoch 4. [Train] \t Time 5.49 Loss                 1.09 \t Accuracy 0.61\n",
            "Epoch 4. [Test] \t Time 0.36 Loss                 1.13 \t Accuracy 0.60\n",
            "Epoch 5. [Train] \t Time 5.36 Loss                 0.90 \t Accuracy 0.69\n",
            "Epoch 6. [Train] \t Time 5.26 Loss                 0.76 \t Accuracy 0.73\n",
            "Epoch 6. [Test] \t Time 0.36 Loss                 0.83 \t Accuracy 0.71\n",
            "Epoch 7. [Train] \t Time 5.34 Loss                 0.68 \t Accuracy 0.76\n",
            "Epoch 8. [Train] \t Time 5.39 Loss                 0.58 \t Accuracy 0.80\n",
            "Epoch 8. [Test] \t Time 0.37 Loss                 0.81 \t Accuracy 0.73\n",
            "Epoch 9. [Train] \t Time 5.43 Loss                 0.51 \t Accuracy 0.83\n",
            "Epoch 10. [Train] \t Time 5.41 Loss                 0.45 \t Accuracy 0.84\n",
            "Epoch 10. [Test] \t Time 0.36 Loss                 0.79 \t Accuracy 0.75\n"
          ],
          "name": "stdout"
        }
      ]
    },
    {
      "cell_type": "code",
      "metadata": {
        "id": "AdENRYNU3_GC",
        "colab": {
          "base_uri": "https://localhost:8080/"
        },
        "outputId": "7656e89d-e3ce-4715-e7fc-fa2ea6f56623"
      },
      "source": [
        "# Running with larger batch size. What will happens?\n",
        "torch.manual_seed(10)\n",
        "batch_size = 500\n",
        "trainloader = get_loader(trainset, True, batch_size=batch_size)\n",
        "model = get_model(device)\n",
        "optimizer = optim.SGD(model.parameters(), lr=0.1)\n",
        "\n",
        "_ = experiment(num_epochs=num_epochs, \n",
        "                                 trainloader=trainloader, \n",
        "                                 device=device, \n",
        "                                 model=model, \n",
        "                                 optimizer=optimizer)"
      ],
      "execution_count": null,
      "outputs": [
        {
          "output_type": "stream",
          "text": [
            "Upon initialization. [Test] \t Time 0.04             Loss 2.31 \t Accuracy 0.10\n",
            "Epoch 1. [Train] \t Time 4.42 Loss                 2.30 \t Accuracy 0.12\n",
            "Epoch 2. [Train] \t Time 4.44 Loss                 2.17 \t Accuracy 0.19\n",
            "Epoch 2. [Test] \t Time 0.37 Loss                 1.95 \t Accuracy 0.28\n",
            "Epoch 3. [Train] \t Time 4.49 Loss                 1.95 \t Accuracy 0.28\n",
            "Epoch 4. [Train] \t Time 4.50 Loss                 1.82 \t Accuracy 0.33\n",
            "Epoch 4. [Test] \t Time 0.36 Loss                 1.76 \t Accuracy 0.36\n",
            "Epoch 5. [Train] \t Time 4.54 Loss                 1.70 \t Accuracy 0.38\n",
            "Epoch 6. [Train] \t Time 4.51 Loss                 1.62 \t Accuracy 0.41\n",
            "Epoch 6. [Test] \t Time 0.37 Loss                 1.50 \t Accuracy 0.46\n",
            "Epoch 7. [Train] \t Time 4.51 Loss                 1.52 \t Accuracy 0.44\n",
            "Epoch 8. [Train] \t Time 4.48 Loss                 1.45 \t Accuracy 0.47\n",
            "Epoch 8. [Test] \t Time 0.37 Loss                 1.40 \t Accuracy 0.50\n",
            "Epoch 9. [Train] \t Time 4.52 Loss                 1.38 \t Accuracy 0.50\n",
            "Epoch 10. [Train] \t Time 4.44 Loss                 1.32 \t Accuracy 0.52\n",
            "Epoch 10. [Test] \t Time 0.36 Loss                 1.28 \t Accuracy 0.54\n"
          ],
          "name": "stdout"
        }
      ]
    },
    {
      "cell_type": "markdown",
      "metadata": {
        "id": "CSywd9rxy2X3"
      },
      "source": [
        "If the learning rate is too small... (Experiment 3)\n",
        "---\n",
        "\n"
      ]
    },
    {
      "cell_type": "code",
      "metadata": {
        "id": "d14OFEpLchBG",
        "colab": {
          "base_uri": "https://localhost:8080/"
        },
        "outputId": "e04f2c8f-a7fa-4e9c-b77a-b0e5c85aa763"
      },
      "source": [
        "torch.manual_seed(10)\n",
        "batch_size = 100\n",
        "trainloader = get_loader(trainset, True, batch_size=batch_size)\n",
        "model = get_model(device)\n",
        "optimizer = optim.SGD(model.parameters(), lr=0.01)\n",
        "\n",
        "_ = experiment(num_epochs=num_epochs, \n",
        "                                 trainloader=trainloader, \n",
        "                                 device=device, \n",
        "                                 model=model, \n",
        "                                 optimizer=optimizer)"
      ],
      "execution_count": null,
      "outputs": [
        {
          "output_type": "stream",
          "text": [
            "Upon initialization. [Test] \t Time 0.05             Loss 2.31 \t Accuracy 0.10\n",
            "Epoch 1. [Train] \t Time 5.41 Loss                 2.30 \t Accuracy 0.12\n",
            "Epoch 2. [Train] \t Time 5.32 Loss                 2.30 \t Accuracy 0.14\n",
            "Epoch 2. [Test] \t Time 0.35 Loss                 2.29 \t Accuracy 0.15\n",
            "Epoch 3. [Train] \t Time 5.39 Loss                 2.22 \t Accuracy 0.17\n",
            "Epoch 4. [Train] \t Time 5.37 Loss                 1.93 \t Accuracy 0.28\n",
            "Epoch 4. [Test] \t Time 0.36 Loss                 1.85 \t Accuracy 0.31\n",
            "Epoch 5. [Train] \t Time 5.43 Loss                 1.77 \t Accuracy 0.34\n",
            "Epoch 6. [Train] \t Time 5.37 Loss                 1.65 \t Accuracy 0.39\n",
            "Epoch 6. [Test] \t Time 0.36 Loss                 1.58 \t Accuracy 0.41\n",
            "Epoch 7. [Train] \t Time 5.41 Loss                 1.57 \t Accuracy 0.42\n",
            "Epoch 8. [Train] \t Time 5.36 Loss                 1.50 \t Accuracy 0.45\n",
            "Epoch 8. [Test] \t Time 0.37 Loss                 1.47 \t Accuracy 0.46\n",
            "Epoch 9. [Train] \t Time 5.42 Loss                 1.43 \t Accuracy 0.48\n",
            "Epoch 10. [Train] \t Time 5.40 Loss                 1.36 \t Accuracy 0.51\n",
            "Epoch 10. [Test] \t Time 0.37 Loss                 1.35 \t Accuracy 0.51\n"
          ],
          "name": "stdout"
        }
      ]
    },
    {
      "cell_type": "markdown",
      "metadata": {
        "id": "eTFJDJejzJEK"
      },
      "source": [
        "If the learning rate is too large... (Experiment 4)\n",
        "---\n"
      ]
    },
    {
      "cell_type": "code",
      "metadata": {
        "id": "lFf8h1Sa0vb8",
        "colab": {
          "base_uri": "https://localhost:8080/"
        },
        "outputId": "c54887c6-be40-4020-aa69-69c4e666f5e9"
      },
      "source": [
        "torch.manual_seed(10)\n",
        "model_4 = get_model(device)\n",
        "optimizer = optim.SGD(model_4.parameters(), lr=1.0)\n",
        "\n",
        "train_res, test_res = experiment(num_epochs=num_epochs, \n",
        "                                 trainloader=trainloader, \n",
        "                                 device=device, \n",
        "                                 model=model_4, \n",
        "                                 optimizer=optimizer)"
      ],
      "execution_count": null,
      "outputs": [
        {
          "output_type": "stream",
          "text": [
            "Upon initialization. [Test] \t Time 0.04             Loss 2.31 \t Accuracy 0.10\n",
            "Epoch 1. [Train] \t Time 5.38 Loss                 nan \t Accuracy 0.11\n",
            "Epoch 2. [Train] \t Time 5.26 Loss                 nan \t Accuracy 0.10\n",
            "Epoch 2. [Test] \t Time 0.36 Loss                 nan \t Accuracy 0.10\n",
            "Epoch 3. [Train] \t Time 5.40 Loss                 nan \t Accuracy 0.10\n",
            "Epoch 4. [Train] \t Time 5.30 Loss                 nan \t Accuracy 0.10\n",
            "Epoch 4. [Test] \t Time 0.37 Loss                 nan \t Accuracy 0.10\n",
            "Epoch 5. [Train] \t Time 5.30 Loss                 nan \t Accuracy 0.10\n",
            "Epoch 6. [Train] \t Time 5.32 Loss                 nan \t Accuracy 0.10\n",
            "Epoch 6. [Test] \t Time 0.37 Loss                 nan \t Accuracy 0.10\n",
            "Epoch 7. [Train] \t Time 5.32 Loss                 nan \t Accuracy 0.10\n",
            "Epoch 8. [Train] \t Time 5.35 Loss                 nan \t Accuracy 0.10\n",
            "Epoch 8. [Test] \t Time 0.34 Loss                 nan \t Accuracy 0.10\n",
            "Epoch 9. [Train] \t Time 5.33 Loss                 nan \t Accuracy 0.10\n",
            "Epoch 10. [Train] \t Time 5.31 Loss                 nan \t Accuracy 0.10\n",
            "Epoch 10. [Test] \t Time 0.35 Loss                 nan \t Accuracy 0.10\n"
          ],
          "name": "stdout"
        }
      ]
    },
    {
      "cell_type": "code",
      "metadata": {
        "id": "d62FYueDg3Ni",
        "colab": {
          "base_uri": "https://localhost:8080/"
        },
        "outputId": "84310082-8f3a-4de2-a3ca-6bdbad166ead"
      },
      "source": [
        "def param_stats(model):\n",
        "    print('\\n')\n",
        "    for name, param in model.named_parameters():\n",
        "        absmax = param.abs().max()\n",
        "        abssum = param.abs().sum()\n",
        "        print(f'{name} with max abs {absmax.item():.2f} and sum abs {abssum:.2f}')\n",
        "\n",
        "print('Bad model params.')\n",
        "param_stats(model_4)\n",
        "print('\\n')\n",
        "print('Good model params.')\n",
        "param_stats(model_1)"
      ],
      "execution_count": null,
      "outputs": [
        {
          "output_type": "stream",
          "text": [
            "Bad model params.\n",
            "\n",
            "\n",
            "feature_extractor.0.weight with max abs nan and sum abs nan\n",
            "feature_extractor.0.bias with max abs nan and sum abs nan\n",
            "feature_extractor.3.weight with max abs nan and sum abs nan\n",
            "feature_extractor.3.bias with max abs inf and sum abs inf\n",
            "feature_extractor.6.weight with max abs nan and sum abs nan\n",
            "feature_extractor.6.bias with max abs inf and sum abs inf\n",
            "feature_extractor.9.weight with max abs nan and sum abs nan\n",
            "feature_extractor.9.bias with max abs nan and sum abs nan\n",
            "classifier.0.weight with max abs nan and sum abs nan\n",
            "classifier.0.bias with max abs nan and sum abs nan\n",
            "classifier.2.weight with max abs nan and sum abs nan\n",
            "classifier.2.bias with max abs nan and sum abs nan\n",
            "classifier.4.weight with max abs nan and sum abs nan\n",
            "classifier.4.bias with max abs nan and sum abs nan\n",
            "\n",
            "\n",
            "Good model params.\n",
            "\n",
            "\n",
            "feature_extractor.0.weight with max abs 0.58 and sum abs 461.32\n",
            "feature_extractor.0.bias with max abs 0.59 and sum abs 15.12\n",
            "feature_extractor.3.weight with max abs 0.27 and sum abs 4037.44\n",
            "feature_extractor.3.bias with max abs 0.34 and sum abs 9.87\n",
            "feature_extractor.6.weight with max abs 0.22 and sum abs 3768.76\n",
            "feature_extractor.6.bias with max abs 0.26 and sum abs 9.40\n",
            "feature_extractor.9.weight with max abs 0.23 and sum abs 2317.43\n",
            "feature_extractor.9.bias with max abs 0.41 and sum abs 7.02\n",
            "classifier.0.weight with max abs 0.23 and sum abs 2414.53\n",
            "classifier.0.bias with max abs 0.29 and sum abs 18.12\n",
            "classifier.2.weight with max abs 0.24 and sum abs 677.10\n",
            "classifier.2.bias with max abs 0.56 and sum abs 8.56\n",
            "classifier.4.weight with max abs 0.75 and sum abs 99.66\n",
            "classifier.4.bias with max abs 0.70 and sum abs 3.34\n"
          ],
          "name": "stdout"
        }
      ]
    },
    {
      "cell_type": "markdown",
      "metadata": {
        "id": "zqo8HuUB1K3a"
      },
      "source": [
        "Using adaptive optimizers and regularization (Experiment 5)\n",
        "---"
      ]
    },
    {
      "cell_type": "code",
      "metadata": {
        "id": "_U6HZRzG1Fst",
        "colab": {
          "base_uri": "https://localhost:8080/"
        },
        "outputId": "70ab3258-e964-458b-c970-fe8c7f4e1330"
      },
      "source": [
        "torch.manual_seed(10)\n",
        "model = get_model(device)\n",
        "optimizer = optim.SGD(model.parameters(), lr=0.01, momentum=0.9, weight_decay=1e-3)\n",
        "\n",
        "train_res, test_res = experiment(num_epochs=num_epochs, \n",
        "                                 trainloader=trainloader, \n",
        "                                 device=device, \n",
        "                                 model=model, \n",
        "                                 optimizer=optimizer)"
      ],
      "execution_count": null,
      "outputs": [
        {
          "output_type": "stream",
          "text": [
            "Upon initialization. [Test] \t Time 0.04             Loss 2.31 \t Accuracy 0.10\n",
            "Epoch 1. [Train] \t Time 5.52 Loss                 2.00 \t Accuracy 0.24\n",
            "Epoch 2. [Train] \t Time 5.44 Loss                 1.44 \t Accuracy 0.47\n",
            "Epoch 2. [Test] \t Time 0.35 Loss                 1.30 \t Accuracy 0.52\n",
            "Epoch 3. [Train] \t Time 5.48 Loss                 1.15 \t Accuracy 0.58\n",
            "Epoch 4. [Train] \t Time 5.54 Loss                 0.95 \t Accuracy 0.66\n",
            "Epoch 4. [Test] \t Time 0.36 Loss                 0.89 \t Accuracy 0.69\n",
            "Epoch 5. [Train] \t Time 5.47 Loss                 0.80 \t Accuracy 0.72\n",
            "Epoch 6. [Train] \t Time 5.49 Loss                 0.69 \t Accuracy 0.76\n",
            "Epoch 6. [Test] \t Time 0.36 Loss                 0.77 \t Accuracy 0.74\n",
            "Epoch 7. [Train] \t Time 5.45 Loss                 0.60 \t Accuracy 0.79\n",
            "Epoch 8. [Train] \t Time 5.47 Loss                 0.53 \t Accuracy 0.81\n",
            "Epoch 8. [Test] \t Time 0.36 Loss                 0.69 \t Accuracy 0.77\n",
            "Epoch 9. [Train] \t Time 5.45 Loss                 0.47 \t Accuracy 0.84\n",
            "Epoch 10. [Train] \t Time 5.40 Loss                 0.42 \t Accuracy 0.85\n",
            "Epoch 10. [Test] \t Time 0.37 Loss                 0.70 \t Accuracy 0.77\n"
          ],
          "name": "stdout"
        }
      ]
    },
    {
      "cell_type": "code",
      "metadata": {
        "id": "9foyH5Km1ZY3",
        "colab": {
          "base_uri": "https://localhost:8080/"
        },
        "outputId": "c1ec4472-b101-454f-944d-c4e48d713b59"
      },
      "source": [
        "torch.manual_seed(10)\n",
        "model = get_model(device)\n",
        "optimizer = optim.Adam(model.parameters(), weight_decay=1e-3)\n",
        "\n",
        "train_res, test_res = experiment(num_epochs=num_epochs, \n",
        "                                 trainloader=trainloader, \n",
        "                                 device=device, \n",
        "                                 model=model, \n",
        "                                 optimizer=optimizer)"
      ],
      "execution_count": null,
      "outputs": [
        {
          "output_type": "stream",
          "text": [
            "Upon initialization. [Test] \t Time 0.04             Loss 2.31 \t Accuracy 0.10\n",
            "Epoch 1. [Train] \t Time 5.68 Loss                 1.64 \t Accuracy 0.39\n",
            "Epoch 2. [Train] \t Time 5.49 Loss                 1.20 \t Accuracy 0.56\n",
            "Epoch 2. [Test] \t Time 0.36 Loss                 1.06 \t Accuracy 0.62\n",
            "Epoch 3. [Train] \t Time 5.73 Loss                 0.97 \t Accuracy 0.65\n",
            "Epoch 4. [Train] \t Time 5.55 Loss                 0.83 \t Accuracy 0.71\n",
            "Epoch 4. [Test] \t Time 0.36 Loss                 0.88 \t Accuracy 0.69\n",
            "Epoch 5. [Train] \t Time 5.62 Loss                 0.72 \t Accuracy 0.75\n",
            "Epoch 6. [Train] \t Time 5.58 Loss                 0.66 \t Accuracy 0.77\n",
            "Epoch 6. [Test] \t Time 0.36 Loss                 0.76 \t Accuracy 0.74\n",
            "Epoch 7. [Train] \t Time 5.58 Loss                 0.59 \t Accuracy 0.79\n",
            "Epoch 8. [Train] \t Time 5.71 Loss                 0.55 \t Accuracy 0.81\n",
            "Epoch 8. [Test] \t Time 0.37 Loss                 0.77 \t Accuracy 0.74\n",
            "Epoch 9. [Train] \t Time 5.63 Loss                 0.51 \t Accuracy 0.82\n",
            "Epoch 10. [Train] \t Time 5.68 Loss                 0.47 \t Accuracy 0.84\n",
            "Epoch 10. [Test] \t Time 0.36 Loss                 0.70 \t Accuracy 0.77\n"
          ],
          "name": "stdout"
        }
      ]
    },
    {
      "cell_type": "markdown",
      "metadata": {
        "id": "HhcPeqvn4ZW-"
      },
      "source": [
        "Messing up initialization... (Experiment 6)\n",
        "---"
      ]
    },
    {
      "cell_type": "code",
      "metadata": {
        "id": "tSH7IxHk4WwT",
        "colab": {
          "base_uri": "https://localhost:8080/"
        },
        "outputId": "4dadf2fe-d841-44f6-b5ec-0a0137253e6c"
      },
      "source": [
        "def init_uniform(model):\n",
        "  for param in model.parameters():\n",
        "      param.data.uniform_()\n",
        "\n",
        "torch.manual_seed(10)\n",
        "model = get_model(device)\n",
        "init_uniform(model)\n",
        "optimizer = optim.SGD(model.parameters(), lr=0.01)\n",
        "\n",
        "train_res, test_res = experiment(num_epochs=num_epochs, \n",
        "                                 trainloader=trainloader, \n",
        "                                 device=device, \n",
        "                                 model=model, \n",
        "                                 optimizer=optimizer)"
      ],
      "execution_count": null,
      "outputs": [
        {
          "output_type": "stream",
          "text": [
            "Upon initialization. [Test] \t Time 0.04             Loss 202551697866752.00 \t Accuracy 0.10\n",
            "Epoch 1. [Train] \t Time 5.38 Loss                 890897899358513922048.00 \t Accuracy 0.10\n",
            "Epoch 2. [Train] \t Time 5.23 Loss                 2.31 \t Accuracy 0.10\n",
            "Epoch 2. [Test] \t Time 0.36 Loss                 2.31 \t Accuracy 0.10\n",
            "Epoch 3. [Train] \t Time 5.35 Loss                 2.30 \t Accuracy 0.10\n",
            "Epoch 4. [Train] \t Time 5.17 Loss                 2.30 \t Accuracy 0.10\n",
            "Epoch 4. [Test] \t Time 0.38 Loss                 2.30 \t Accuracy 0.10\n",
            "Epoch 5. [Train] \t Time 5.37 Loss                 2.30 \t Accuracy 0.10\n",
            "Epoch 6. [Train] \t Time 5.32 Loss                 2.30 \t Accuracy 0.10\n",
            "Epoch 6. [Test] \t Time 0.35 Loss                 2.30 \t Accuracy 0.10\n",
            "Epoch 7. [Train] \t Time 5.28 Loss                 2.30 \t Accuracy 0.10\n",
            "Epoch 8. [Train] \t Time 5.29 Loss                 2.30 \t Accuracy 0.10\n",
            "Epoch 8. [Test] \t Time 0.37 Loss                 2.30 \t Accuracy 0.10\n",
            "Epoch 9. [Train] \t Time 5.37 Loss                 2.30 \t Accuracy 0.10\n",
            "Epoch 10. [Train] \t Time 5.36 Loss                 2.30 \t Accuracy 0.10\n",
            "Epoch 10. [Test] \t Time 0.36 Loss                 2.30 \t Accuracy 0.10\n"
          ],
          "name": "stdout"
        }
      ]
    },
    {
      "cell_type": "code",
      "metadata": {
        "id": "-oHpnbfVjVAB"
      },
      "source": [
        ""
      ],
      "execution_count": null,
      "outputs": []
    }
  ]
}