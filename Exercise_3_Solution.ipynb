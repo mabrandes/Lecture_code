{
  "nbformat": 4,
  "nbformat_minor": 0,
  "metadata": {
    "colab": {
      "name": "Exercise 3 Solution.ipynb",
      "provenance": [],
      "collapsed_sections": []
    },
    "kernelspec": {
      "name": "python3",
      "display_name": "Python 3"
    }
  },
  "cells": [
    {
      "cell_type": "code",
      "metadata": {
        "id": "DFKFexKeYwZK"
      },
      "source": [
        "# RUN THIS CELL BEFORE STARTING\n",
        "import matplotlib.pyplot as plt\n",
        "import numpy as np\n",
        "import math"
      ],
      "execution_count": null,
      "outputs": []
    },
    {
      "cell_type": "markdown",
      "metadata": {
        "id": "nKQ7y2KcdRCm"
      },
      "source": [
        "# Task 2a"
      ]
    },
    {
      "cell_type": "code",
      "metadata": {
        "id": "8cft2_KrdVyc"
      },
      "source": [
        "# Material Data for Titanium\n",
        "thermal_conductivity = 30.45 # [J/(m*s*K)]\n",
        "mass_density = 4002.23 # [kg/m^3]\n",
        "specific_heat = 857.68 # [J/(kg*K)]\n",
        "thermal_diffusivity = thermal_conductivity/(mass_density*specific_heat)#(m**2/s)\n",
        "\n",
        "melting_temperature = 1654 # Melting Temperature deg_C"
      ],
      "execution_count": null,
      "outputs": []
    },
    {
      "cell_type": "code",
      "metadata": {
        "id": "yDBLmFktfa9b"
      },
      "source": [
        "def rosenthal(x, y, z, Q, v, T0, thermal_diffusivity, thermal_conductivity):\n",
        "  R = (x**2+y**2+z**2)**0.5\n",
        "  T = T0 +  (Q/(2*math.pi*thermal_conductivity *R +1e-12)\n",
        "  # The term 1e-12 avoids dividing by zero when R=0\n",
        "    * np.exp(-v*(x+R)/(2*thermal_diffusivity))) \n",
        "  # Using np.exp instead of math.exp allows us to pass numpy-arrays as inputs \n",
        "  return T"
      ],
      "execution_count": null,
      "outputs": []
    },
    {
      "cell_type": "code",
      "metadata": {
        "colab": {
          "base_uri": "https://localhost:8080/"
        },
        "id": "a1wR2oYZgPkM",
        "outputId": "21f56293-20fd-4242-d7e3-4b7672ed8031"
      },
      "source": [
        "Q = 1e3 # Energy in W\n",
        "v = 40e-2/60 # Torch speed in m/s, converted from cm/min\n",
        "T0 = 25 # Preheat in deg_C\n",
        "\n",
        "x = 2e-3; y = 0; z = 0\n",
        "T = rosenthal(x, y, z, Q, v, T0, thermal_diffusivity, thermal_conductivity)\n",
        "print(f'Temperature at ({x*1e3}mm,{y*1e3}mm,{z*1e3}mm): {T:.2f}°C')\n",
        "\n",
        "x = 0; y = 0; z = -3e-3\n",
        "T = rosenthal(x, y, z, Q, v, T0, thermal_diffusivity, thermal_conductivity)\n",
        "print(f'Temperature at ({x*1e3}mm,{y*1e3}mm,{z*1e3}mm): {T:.2f}°C')\n",
        "\n",
        "x = -1e-3; y = 0; z = 0\n",
        "T = rosenthal(x, y, z, Q, v, T0, thermal_diffusivity, thermal_conductivity)\n",
        "print(f'Temperature at ({x*1e3}mm,{y*1e3}mm,{z*1e3}mm): {T:.2f}°C')"
      ],
      "execution_count": null,
      "outputs": [
        {
          "output_type": "stream",
          "text": [
            "Temperature at (2.0mm,0.0mm,0.0mm): 606.34°C\n",
            "Temperature at (0.0mm,0.0mm,-3.0mm): 589.33°C\n",
            "Temperature at (-1.0mm,0.0mm,0.0mm): 5251.76°C\n"
          ],
          "name": "stdout"
        }
      ]
    },
    {
      "cell_type": "markdown",
      "metadata": {
        "id": "mU2jmX_CjjoZ"
      },
      "source": [
        "# Task 2c"
      ]
    },
    {
      "cell_type": "code",
      "metadata": {
        "colab": {
          "base_uri": "https://localhost:8080/",
          "height": 368
        },
        "id": "f2ToLWcBBbtX",
        "outputId": "74a8859e-7a53-44fa-f7b3-f7d10a598536"
      },
      "source": [
        "Q = 1e3 # Energy in W\n",
        "v = 40e-2/60 # Torch speed in m/s\n",
        "T0 = 25 # Preheat in deg_C\n",
        "x = np.linspace(-5e-3, 5e-3, 10000)\n",
        "y = np.linspace(-5e-3, 5e-3, 10000)\n",
        "z = 0\n",
        "\n",
        "X, Y = np.meshgrid(x, y)\n",
        "\n",
        "T = rosenthal(X, Y, z, Q, v, T0, thermal_diffusivity, thermal_conductivity)\n",
        "is_melted = T > melting_temperature\n",
        "\n",
        "y_melt, x_melt = np.where(is_melted)\n",
        "x_max = x[x_melt.max()]\n",
        "x_min = x[x_melt.min()]\n",
        "\n",
        "y_min = y[y_melt.min()]\n",
        "y_max = y[y_melt.max()]\n",
        "\n",
        "x_edge_min = x[x_melt[y_melt.argmin()]]\n",
        "x_edge_max = x[x_melt[y_melt.argmax()]]\n",
        "\n",
        "plt.contour(X*1e3, Y*1e3, is_melted, colors='red') # Displays the contour of the melt pool\n",
        "plt.scatter(0, 0, color='black', marker='+') # Displays the position of the heat source\n",
        "plt.xlabel('x [mm]')\n",
        "plt.ylabel('y [mm]')\n",
        "plt.title('Shape of Melt Pool')\n",
        "\n",
        "plt.scatter(x_max*1e3, 0, color='black', marker='x')\n",
        "plt.scatter(x_min*1e3, 0, color='black', marker='x')\n",
        "plt.scatter(x_edge_min*1e3, y_min*1e3, color='black', marker='x')\n",
        "plt.scatter(x_edge_max*1e3, y_max*1e3, color='black', marker='x')\n",
        "\n",
        "plt.show()\n",
        "\n",
        "print(f'The melt pool goes from {x_min*1e3:.2f}mm to {x_max*1e3:.2f}mm in x-direction')\n",
        "length = x_max - x_min\n",
        "print(f'The length of the melt pool is {length*1e3:.2f}mm')\n",
        "print(f'The melt pool goes from {y_min*1e3:.2f}mm to {y_max*1e3:.2f}mm in y-direction')\n",
        "width = y_max - y_min\n",
        "print(f'The width of the melt pool is {width*1e3:.2f}mm')"
      ],
      "execution_count": null,
      "outputs": [
        {
          "output_type": "display_data",
          "data": {
            "image/png": "[encoded data removed]",
            "text/plain": [
              "<Figure size 432x288 with 1 Axes>"
            ]
          },
          "metadata": {
            "tags": [],
            "needs_background": "light"
          }
        },
        {
          "output_type": "stream",
          "text": [
            "The melt pool goes from -3.21mm to 1.25mm in x-direction\n",
            "The length of the melt pool is 4.46mm\n",
            "The melt pool goes from -1.86mm to 1.86mm in y-direction\n",
            "The width of the melt pool is 3.72mm\n"
          ],
          "name": "stdout"
        }
      ]
    },
    {
      "cell_type": "code",
      "metadata": {
        "colab": {
          "base_uri": "https://localhost:8080/",
          "height": 368
        },
        "id": "7zD5sOn5nsXo",
        "outputId": "e82988e7-7617-4a7e-b016-ce542540786c"
      },
      "source": [
        "Q = 500 # Energy in W\n",
        "v = 104e-3 # Torch speed in m/s\n",
        "T0 = 25 # Preheat in deg_C\n",
        "x = np.linspace(-2.5e-3, 2.5e-3, 10000)\n",
        "y = np.linspace(-2.5e-3, 2.5e-3, 10000)\n",
        "z = 0\n",
        "\n",
        "X, Y = np.meshgrid(x, y)\n",
        "\n",
        "T = rosenthal(X, Y, z, Q, v, T0, thermal_diffusivity, thermal_conductivity)\n",
        "is_melted = T > melting_temperature\n",
        "\n",
        "y_melt, x_melt = np.where(is_melted)\n",
        "x_max = x[x_melt.max()]\n",
        "x_min = x[x_melt.min()]\n",
        "\n",
        "y_min = y[y_melt.min()]\n",
        "y_max = y[y_melt.max()]\n",
        "\n",
        "x_edge_min = x[x_melt[y_melt.argmin()]]\n",
        "x_edge_max = x[x_melt[y_melt.argmax()]]\n",
        "\n",
        "plt.contour(X*1e3, Y*1e3, is_melted, colors='red') # Displays the contour of the melt pool\n",
        "plt.scatter(0, 0, color='black', marker='+') # Displays the position of the heat source\n",
        "plt.xlabel('x [mm]')\n",
        "plt.ylabel('y [mm]')\n",
        "plt.title('Shape of Melt Pool')\n",
        "\n",
        "plt.scatter(x_max*1e3, 0, color='black', marker='x')\n",
        "plt.scatter(x_min*1e3, 0, color='black', marker='x')\n",
        "plt.scatter(x_edge_min*1e3, y_min*1e3, color='black', marker='x')\n",
        "plt.scatter(x_edge_max*1e3, y_max*1e3, color='black', marker='x')\n",
        "\n",
        "plt.show()\n",
        "\n",
        "print(f'The melt pool goes from {x_min*1e3:.2f}mm to {x_max*1e3:.2f}mm in x-direction')\n",
        "length = x_max - x_min\n",
        "print(f'The length of the melt pool is {length*1e3:.2f}mm')\n",
        "print(f'The melt pool goes from {y_min*1e3:.2f}mm to {y_max*1e3:.2f}mm in y-direction')\n",
        "width = y_max - y_min\n",
        "print(f'The width of the melt pool is {width*1e3:.2f}mm')                "
      ],
      "execution_count": null,
      "outputs": [
        {
          "output_type": "display_data",
          "data": {
            "image/png": "[encoded data removed]",
            "text/plain": [
              "<Figure size 432x288 with 1 Axes>"
            ]
          },
          "metadata": {
            "tags": [],
            "needs_background": "light"
          }
        },
        {
          "output_type": "stream",
          "text": [
            "The melt pool goes from -1.60mm to 0.18mm in x-direction\n",
            "The length of the melt pool is 1.79mm\n",
            "The melt pool goes from -0.42mm to 0.42mm in y-direction\n",
            "The width of the melt pool is 0.84mm\n"
          ],
          "name": "stdout"
        }
      ]
    },
    {
      "cell_type": "markdown",
      "metadata": {
        "id": "lcqZLRd8aCzf"
      },
      "source": [
        "# Task 3.3\n",
        "The formulas below allow you to calculate the thermal gradient and the solidification rate for a heat field resulting from the Rosenthal equation. You can plot the resulting values in the diagramm below, using plt.scatter(). \\\\\n",
        "We suggest the following approach:\n",
        "* Use Rosenthal equation to (numerically) find the positions of both the deepest point in the melt pool and the trailing edge of the melt pool.\n",
        "* Verify your result by calculating the temperature at these positions.\n",
        "* Calculate both the thermal gradient and the solidification rate at these positions, using the provided formulas.\n",
        "* Plot the resulting values in the diagramm below.\n"
      ]
    },
    {
      "cell_type": "code",
      "metadata": {
        "id": "F1rZDW_YaEt9"
      },
      "source": [
        "def thermal_gradient(x, y, z, v, lmbda, alpha, Q, T0):\n",
        "    '''\n",
        "    Arguments:\n",
        "    x, y, z: position [m], given as numpy-array or single number\n",
        "    v: velocity of heat source [m/s]\n",
        "    Q: deposited energy of heat source [W]\n",
        "    T0: initial temperature of material [K]\n",
        "    lmbda: thermal conductivity of material [J/(m*s*K)]\n",
        "    alpha: thermal diffusivity of material [m**2/s]\n",
        "    \n",
        "    Returns:\n",
        "    G: Thermal gradient [K/m], given in the same format as input positions\n",
        "    '''\n",
        "    # Normalize the coordinates\n",
        "    x = v / (2*alpha) * x\n",
        "    y = v / (2*alpha) * y\n",
        "    z = v / (2*alpha) * z\n",
        "\n",
        "    R = np.sqrt(x**2 + y**2 + z**2)\n",
        "    dT_dx = -np.exp(-(x+R)) / (2*R) * (1 + x/R + x/R**2)  \n",
        "    dT_dy = -y*np.exp(-(x+R)) / (2*R**2) * (1 + 1/R)\n",
        "    dT_dz = -z*np.exp(-(x+R)) / (2*R**2) * (1 + 1/R)\n",
        "    \n",
        "    G = np.sqrt(dT_dx**2 + dT_dy**2 + dT_dz**2)\n",
        "    # Denormalize the Thermal Gradient\n",
        "    G = G * (v/(2*alpha))**2 * (Q/(math.pi*lmbda))\n",
        "    \n",
        "    return G"
      ],
      "execution_count": null,
      "outputs": []
    },
    {
      "cell_type": "code",
      "metadata": {
        "id": "lL6iHTSxyUMn"
      },
      "source": [
        "def solidification_rate(x, y, z, v, lmbda, alpha, Q, T0):\n",
        "    '''\n",
        "    Arguments:\n",
        "    x, y, z: position [m], given as numpy-array or single number\n",
        "    v: velocity of heat source [m/s]\n",
        "    Q: deposited energy of heat source [W]\n",
        "    T0: initial temperature of material [K]\n",
        "    lmbda: thermal conductivity of material [J/(m*s*K)]\n",
        "    alpha: thermal diffusivity of material [m**2/s]\n",
        "    \n",
        "    Returns:\n",
        "    solidification rate:  [m/s], given in the same format as input positions\n",
        "    '''\n",
        "    # Normalize the coordinates\n",
        "    x_n = v / (2*alpha) * x\n",
        "    y_n = v / (2*alpha) * y\n",
        "    z_n = v / (2*alpha) * z\n",
        "    \n",
        "    R = np.sqrt(x_n**2 + y_n**2 + z_n**2)\n",
        "    dT_dt = np.exp(-(x_n+R)) / (2*R) * (1 + x_n/R + x_n/R**2)\n",
        "    # Dimensionalize the cooling rate\n",
        "    dT_dt *= (v/(2*alpha))**2 * (Q*v/(math.pi*lmbda))\n",
        "    G = thermal_gradient(x, y, z, v, lmbda, alpha, Q, T0)\n",
        "    solidification_rate = -dT_dt/(G+1e-6)\n",
        "    \n",
        "    return solidification_rate"
      ],
      "execution_count": null,
      "outputs": []
    },
    {
      "cell_type": "markdown",
      "metadata": {
        "id": "cNvJJJehNFAI"
      },
      "source": [
        "# WAAM\n",
        "Find the coordinates of the surface part of the trailing edge and of the deepest point of the melt pool. Plot the melt pool to double check."
      ]
    },
    {
      "cell_type": "code",
      "metadata": {
        "colab": {
          "base_uri": "https://localhost:8080/",
          "height": 295
        },
        "id": "E5Lj9p_jw_k3",
        "outputId": "57ec4eaa-b214-4d7e-c689-dbec87723e9e"
      },
      "source": [
        "Q = 1e3 # Energy in W\n",
        "v = 40e-2/60 # Torch speed in m/s\n",
        "T0 = 25 # Preheat in deg_C\n",
        "x = np.linspace(-5e-3, 5e-3, 10000)\n",
        "y = 0\n",
        "z = np.linspace(-5e-3, 0, 10000)\n",
        "\n",
        "X, Z = np.meshgrid(x, z)\n",
        "\n",
        "T = rosenthal(X, y, Z, Q, v, T0, thermal_diffusivity, thermal_conductivity)\n",
        "is_melted = T > melting_temperature\n",
        "\n",
        "z_melt, x_melt = np.where(is_melted)\n",
        "x_top = x[x_melt.min()]\n",
        "z_top = 0\n",
        "\n",
        "z_bottom = z[z_melt.min()]\n",
        "x_bottom = x[x_melt[z_melt.argmin()]]\n",
        "\n",
        "plt.contour(X*1e3, Z*1e3, is_melted, colors='red') # Displays the contour of the melt pool\n",
        "plt.scatter(0, 0, color='black', marker='+') # Displays the position of the heat source\n",
        "plt.xlabel('x [mm]')\n",
        "plt.ylabel('y [mm]')\n",
        "plt.title('Shape of Melt Pool')\n",
        "plt.axis('equal')\n",
        "\n",
        "plt.scatter(x_top*1e3, z_top*1e3, color='black', marker='x')\n",
        "plt.scatter(x_bottom*1e3, z_bottom*1e3, color='black', marker='x')\n",
        "\n",
        "plt.show()"
      ],
      "execution_count": null,
      "outputs": [
        {
          "output_type": "display_data",
          "data": {
            "image/png": "[encoded data removed]",
            "text/plain": [
              "<Figure size 432x288 with 1 Axes>"
            ]
          },
          "metadata": {
            "tags": [],
            "needs_background": "light"
          }
        }
      ]
    },
    {
      "cell_type": "markdown",
      "metadata": {
        "id": "7N07XVQrN6ji"
      },
      "source": [
        "Find the values of the thermal gradient (G) and the solidification rate (SR) and plot them in the diagram. Take care of units!"
      ]
    },
    {
      "cell_type": "code",
      "metadata": {
        "id": "hVskx3A2p98m",
        "colab": {
          "base_uri": "https://localhost:8080/",
          "height": 299
        },
        "outputId": "2e112ad3-56fb-455b-d2e8-c829448bb5c3"
      },
      "source": [
        "R_val = np.concatenate((np.arange(0.00045, 0.01-0.0001, 0.0001), np.arange(0.01, 1-0.1, 0.1), np.arange(1, 1000, 10)))\n",
        "G_eq = 1509.65 * R_val**0.5 * (1-2.9348e-4 * R_val**(-3/2.))\n",
        "G_col = 7006.9 * R_val**0.5 * (1 - 2.9348e-4 * R_val**(-3/2))\n",
        "plt.loglog(R_val, G_eq)\n",
        "plt.loglog(R_val, G_col)\n",
        "\n",
        "plt.xlim(1e-4, 1e3)\n",
        "plt.ylim(1e0, 1e6)\n",
        "plt.xlabel('Solidification Rate (cm/s)')\n",
        "plt.ylabel('Thermal Gradient (K/cm)')\n",
        "\n",
        "g_top = thermal_gradient(x_top, 0, z_top, v, thermal_conductivity, thermal_diffusivity, Q, T0)\n",
        "sr_top = solidification_rate(x_top, 0, z_top, v, thermal_conductivity, thermal_diffusivity, Q, T0)\n",
        "g_bottom = thermal_gradient(x_bottom, 0, z_bottom, v, thermal_conductivity, thermal_diffusivity, Q, T0)\n",
        "sr_bottom = solidification_rate(x_bottom, 0, z_bottom, v, thermal_conductivity, thermal_diffusivity, Q, T0)\n",
        "\n",
        "# Plot your values using plt.scatter, simply replace (and duplicate) the line\n",
        "# below. You can use the optional inputs 'color' and 'marker' to change the\n",
        "# scatter point's color and shape. Check the online documentation for more\n",
        "# details: https://matplotlib.org/stable/api/_as_gen/matplotlib.pyplot.scatter.html\n",
        "plt.scatter(sr_top*100, g_top/100, color='red', marker='x')\n",
        "plt.scatter(sr_bottom*100, g_bottom/100, color='blue', marker='x')\n",
        "\n",
        "plt.title('Hunt\\'s Curves for Ti-6Al-4V')\n",
        "plt.show()"
      ],
      "execution_count": null,
      "outputs": [
        {
          "output_type": "display_data",
          "data": {
            "image/png": "[encoded data removed]",
            "text/plain": [
              "<Figure size 432x288 with 1 Axes>"
            ]
          },
          "metadata": {
            "tags": [],
            "needs_background": "light"
          }
        }
      ]
    },
    {
      "cell_type": "markdown",
      "metadata": {
        "id": "da2DzUU0OBqf"
      },
      "source": [
        "There is pure columnar grain growth at the bottom of the melt pool and mixed growth at the top."
      ]
    },
    {
      "cell_type": "markdown",
      "metadata": {
        "id": "yK6wAGDYORSl"
      },
      "source": [
        "# EBAM\n",
        "Rerun the code with different input parameters"
      ]
    },
    {
      "cell_type": "code",
      "metadata": {
        "colab": {
          "base_uri": "https://localhost:8080/",
          "height": 295
        },
        "id": "TpwfaSYsOTHm",
        "outputId": "5a985d02-7130-49ac-cecf-4dab71775efd"
      },
      "source": [
        "Q = 500 # Energy in W\n",
        "v = 50e-2 # Torch speed in m/s\n",
        "T0 = 25 # Preheat in deg_C\n",
        "x = np.linspace(-2e-3, 2e-3, 10000)\n",
        "y = 0\n",
        "z = np.linspace(-1e-3, 0, 10000)\n",
        "\n",
        "X, Z = np.meshgrid(x, z)\n",
        "\n",
        "T = rosenthal(X, y, Z, Q, v, T0, thermal_diffusivity, thermal_conductivity)\n",
        "is_melted = T > melting_temperature\n",
        "\n",
        "z_melt, x_melt = np.where(is_melted)\n",
        "x_top = x[x_melt.min()]\n",
        "z_top = 0\n",
        "\n",
        "z_bottom = z[z_melt.min()]\n",
        "x_bottom = x[x_melt[z_melt.argmin()]]\n",
        "\n",
        "plt.contour(X*1e3, Z*1e3, is_melted, colors='red') # Displays the contour of the melt pool\n",
        "plt.scatter(0, 0, color='black', marker='+') # Displays the position of the heat source\n",
        "plt.xlabel('x [mm]')\n",
        "plt.ylabel('y [mm]')\n",
        "plt.title('Shape of Melt Pool')\n",
        "\n",
        "plt.scatter(x_top*1e3, z_top*1e3, color='black', marker='x')\n",
        "plt.scatter(x_bottom*1e3, z_bottom*1e3, color='black', marker='x')\n",
        "\n",
        "plt.show()"
      ],
      "execution_count": null,
      "outputs": [
        {
          "output_type": "display_data",
          "data": {
            "image/png": "[encoded data removed]",
            "text/plain": [
              "<Figure size 432x288 with 1 Axes>"
            ]
          },
          "metadata": {
            "tags": [],
            "needs_background": "light"
          }
        }
      ]
    },
    {
      "cell_type": "code",
      "metadata": {
        "colab": {
          "base_uri": "https://localhost:8080/",
          "height": 299
        },
        "id": "WR28QwE0Od8-",
        "outputId": "cdd74f3e-6fd4-4980-f683-827dc1af5bd8"
      },
      "source": [
        "R_val = np.concatenate((np.arange(0.00045, 0.01-0.0001, 0.0001), np.arange(0.01, 1-0.1, 0.1), np.arange(1, 1000, 10)))\n",
        "G_eq = 1509.65 * R_val**0.5 * (1-2.9348e-4 * R_val**(-3/2.))\n",
        "G_col = 7006.9 * R_val**0.5 * (1 - 2.9348e-4 * R_val**(-3/2))\n",
        "plt.loglog(R_val, G_eq)\n",
        "plt.loglog(R_val, G_col)\n",
        "\n",
        "plt.xlim(1e-4, 1e3)\n",
        "plt.ylim(1e0, 1e6)\n",
        "plt.xlabel('Solidification Rate (cm/s)')\n",
        "plt.ylabel('Thermal Gradient (K/cm)')\n",
        "\n",
        "g_top = thermal_gradient(x_top, 0, z_top, v, thermal_conductivity, thermal_diffusivity, Q, T0)\n",
        "sr_top = solidification_rate(x_top, 0, z_top, v, thermal_conductivity, thermal_diffusivity, Q, T0)\n",
        "g_bottom = thermal_gradient(x_bottom, 0, z_bottom, v, thermal_conductivity, thermal_diffusivity, Q, T0)\n",
        "sr_bottom = solidification_rate(x_bottom, 0, z_bottom, v, thermal_conductivity, thermal_diffusivity, Q, T0)\n",
        "\n",
        "# Plot your values using plt.scatter, simply replace (and duplicate) the line\n",
        "# below. You can use the optional inputs 'color' and 'marker' to change the\n",
        "# scatter point's color and shape. Check the online documentation for more\n",
        "# details: https://matplotlib.org/stable/api/_as_gen/matplotlib.pyplot.scatter.html\n",
        "plt.scatter(sr_top*100, g_top/100, color='red', marker='x')\n",
        "plt.scatter(sr_bottom*100, g_bottom/100, color='blue', marker='x')\n",
        "\n",
        "plt.title('Hunt\\'s Curves for Ti-6Al-4V')\n",
        "plt.show()"
      ],
      "execution_count": null,
      "outputs": [
        {
          "output_type": "display_data",
          "data": {
            "image/png": "[encoded data removed]",
            "text/plain": [
              "<Figure size 432x288 with 1 Axes>"
            ]
          },
          "metadata": {
            "tags": [],
            "needs_background": "light"
          }
        }
      ]
    },
    {
      "cell_type": "markdown",
      "metadata": {
        "id": "CU6vVxw6OvqT"
      },
      "source": [
        "The bottom of the melt pool has columnar grain growth, while the top shows completely equiaxed growth.\n",
        "Note that even with these extreme parameters (the electron beam needs to be moving at half a meter every second), we barely manage to create equiaxed grain growth at the top of the melt pool."
      ]
    }
  ]
}